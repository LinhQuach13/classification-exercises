{
 "cells": [
  {
   "cell_type": "markdown",
   "metadata": {},
   "source": [
    "# Exercises\n",
    "1. Create a new file named model_evaluation.py or model_evaluation.ipynb for these exercises.\n",
    "2. Given the following confusion matrix, evaluate (by hand) the model's performance.\n",
    "- In the context of this problem, what is a false positive?\n",
    "- In the context of this problem, what is a false negative?\n",
    "- How would you describe this model?\n",
    "\n",
    "3. You are working as a datascientist working for Codeup Cody Creator (C3 for short), a rubber-duck manufacturing plant.\n",
    "\n",
    "Unfortunately, some of the rubber ducks that are produced will have defects. Your team has built several models that try to predict those defects, and the data from their predictions can be found here.\n",
    "\n",
    "Use the predictions dataset and pandas to help answer the following questions:\n",
    "    - An internal team wants to investigate the cause of the manufacturing defects. They tell you that they want to identify as many of the ducks that have a defect as possible. Which evaluation metric would be appropriate here? Which model would be the best fit for this use case?\n",
    "    - Recently several stories in the local news have come out highlighting customers who received a rubber duck with a defect, and portraying C3 in a bad light. The PR team has decided to launch a program that gives customers with a defective duck a vacation to Hawaii. They need you to predict which ducks will have defects, but tell you the really don't want to accidentally give out a vacation package when the duck really doesn't have a defect. Which evaluation metric would be appropriate here? Which model would be the best fit for this use case?\n",
    "\n",
    "4. You are working as a data scientist for Gives You Paws ™, a subscription based service that shows you cute pictures of dogs or cats (or both for an additional fee).\n",
    "\n",
    "At Gives You Paws, anyone can upload pictures of their cats or dogs. The photos are then put through a two step process. First an automated algorithm tags pictures as either a cat or a dog (Phase I). Next, the photos that have been initially identified are put through another round of review, possibly with some human oversight, before being presented to the users (Phase II).\n",
    "\n",
    "Several models have already been developed with the data, and you can find their results here.\n",
    "\n",
    "Given this dataset, use pandas to create a baseline model (i.e. a model that just predicts the most common class) and answer the following questions:\n",
    "\n",
    "- a. In terms of accuracy, how do the various models compare to the baseline model? Are any of the models better than the baseline?\n",
    "- b. Suppose you are working on a team that solely deals with dog pictures. Which of these models would you recomend for Phase I? For Phase II?\n",
    "- c. Suppose you are working on a team that solely deals with cat pictures. Which of these models would you recomend for Phase I? For Phase II?\n",
    "\n",
    "5. Follow the links below to read the documentation about each function, then apply those functions to the data from the previous problem.\n",
    "\n",
    "sklearn.metrics.accuracy_score\n",
    "sklearn.metrics.precision_score\n",
    "sklearn.metrics.recall_score\n",
    "sklearn.metrics.classification_report\n",
    "\n"
   ]
  },
  {
   "cell_type": "markdown",
   "metadata": {},
   "source": [
    "- 2. Given the following confusion matrix, evaluate (by hand) the model's performance."
   ]
  },
  {
   "cell_type": "code",
   "execution_count": null,
   "metadata": {},
   "outputs": [],
   "source": [
    "|               | pred dog   | pred cat   |\n",
    "|:------------  |-----------:|-----------:|\n",
    "| actual dog    |         46 |         7  |\n",
    "| actual cat    |         13 |         34 |"
   ]
  },
  {
   "cell_type": "markdown",
   "metadata": {},
   "source": [
    " - True Positive: We predicted a cat \n",
    " - True Negative: We predicted not a cat\n",
    "- In the context of this problem, what is a false positive?\n",
    "   - FP: We we predicted it was cat but in actuality it was not a cat\n",
    "- In the context of this problem, what is a false negative?\n",
    "    - FN: We predicted it was not a cat but it was actually a cat\n",
    "- How would you describe this model?\n",
    "   - Values:\n",
    "   TP: 34\n",
    "   TN: 46\n",
    "   FP: 13\n",
    "   FN: 7\n",
    "   - accuracy:\n",
    "  accuracy= (TP+TN)/ (TP+FP+FN+TN)\n",
    "  accuracy=  (34+46) / (34+13+7+46)\n",
    "  accuracy=  80/100 = 80% accurate\n",
    "   - recall:\n",
    "   recall= TP/(TP+FN)\n",
    "   recall= 34/(34+7)\n",
    "   recall= 83/100= 83 % recall\n",
    "   - precision:\n",
    "   precision= TP/(TP+FP)\n",
    "   precision= 34/(34+13)\n",
    "   precision= 73/100 = 73 %\n",
    "   - specificity (opposite of recall): \n",
    "   specificity= TN /(TN + FP)\n",
    "   specificity = 46/ (34 + 13)\n",
    "   specificity= 98/100 = 98%"
   ]
  },
  {
   "cell_type": "code",
   "execution_count": 96,
   "metadata": {},
   "outputs": [],
   "source": [
    "# imports\n",
    "import pandas as pd\n",
    "from sklearn.metrics import confusion_matrix\n",
    "from sklearn.metrics import accuracy_score\n",
    "from sklearn.metrics import precision_score\n",
    "from sklearn.metrics import recall_score\n",
    "from sklearn.metrics import classification_report"
   ]
  },
  {
   "cell_type": "code",
   "execution_count": 3,
   "metadata": {},
   "outputs": [],
   "source": [
    "# 3. You are working as a datascientist working for Codeup Cody Creator (C3 for short), a rubber-duck manufacturing plant.\n",
    " # - Unfortunately, some of the rubber ducks that are produced will have defects. Your team has built several models that try to predict those defects, \n",
    " # and the data from their predictions can be found here."
   ]
  },
  {
   "cell_type": "code",
   "execution_count": null,
   "metadata": {},
   "outputs": [],
   "source": [
    "# - 3a. An internal team wants to investigate the cause of the manufacturing defects. They tell you that they want to identify as many of the ducks that have a defect as possible. Which evaluation metric would be appropriate here? Which model would be the best fit for this use case?\n",
    "\n",
    "# - positive= there's a defect\n",
    "# - negative= there's no defect\n",
    "\n",
    "# - FP: There's a defect but there is not\n",
    "# - FN: There's no defect but there is a defect\n",
    "# - TP: There's a defect and there is\n",
    "# - TN: There's no defect and there is not a defect\n",
    "\n",
    "#Answer: Evaluation metric we use here is recall and prediction3/model3 is the best fit because it has 81% recall"
   ]
  },
  {
   "cell_type": "code",
   "execution_count": 97,
   "metadata": {},
   "outputs": [],
   "source": [
    "# Get rubber duck dataframe\n",
    "rubber_duck_df= pd.read_csv('rubber_duck.csv')"
   ]
  },
  {
   "cell_type": "code",
   "execution_count": 98,
   "metadata": {},
   "outputs": [
    {
     "data": {
      "text/html": [
       "<div>\n",
       "<style scoped>\n",
       "    .dataframe tbody tr th:only-of-type {\n",
       "        vertical-align: middle;\n",
       "    }\n",
       "\n",
       "    .dataframe tbody tr th {\n",
       "        vertical-align: top;\n",
       "    }\n",
       "\n",
       "    .dataframe thead th {\n",
       "        text-align: right;\n",
       "    }\n",
       "</style>\n",
       "<table border=\"1\" class=\"dataframe\">\n",
       "  <thead>\n",
       "    <tr style=\"text-align: right;\">\n",
       "      <th></th>\n",
       "      <th>actual</th>\n",
       "      <th>model1</th>\n",
       "      <th>model2</th>\n",
       "      <th>model3</th>\n",
       "    </tr>\n",
       "  </thead>\n",
       "  <tbody>\n",
       "    <tr>\n",
       "      <th>0</th>\n",
       "      <td>No Defect</td>\n",
       "      <td>No Defect</td>\n",
       "      <td>Defect</td>\n",
       "      <td>No Defect</td>\n",
       "    </tr>\n",
       "    <tr>\n",
       "      <th>1</th>\n",
       "      <td>No Defect</td>\n",
       "      <td>No Defect</td>\n",
       "      <td>Defect</td>\n",
       "      <td>Defect</td>\n",
       "    </tr>\n",
       "    <tr>\n",
       "      <th>2</th>\n",
       "      <td>No Defect</td>\n",
       "      <td>No Defect</td>\n",
       "      <td>Defect</td>\n",
       "      <td>No Defect</td>\n",
       "    </tr>\n",
       "    <tr>\n",
       "      <th>3</th>\n",
       "      <td>No Defect</td>\n",
       "      <td>Defect</td>\n",
       "      <td>Defect</td>\n",
       "      <td>Defect</td>\n",
       "    </tr>\n",
       "    <tr>\n",
       "      <th>4</th>\n",
       "      <td>No Defect</td>\n",
       "      <td>No Defect</td>\n",
       "      <td>Defect</td>\n",
       "      <td>No Defect</td>\n",
       "    </tr>\n",
       "    <tr>\n",
       "      <th>...</th>\n",
       "      <td>...</td>\n",
       "      <td>...</td>\n",
       "      <td>...</td>\n",
       "      <td>...</td>\n",
       "    </tr>\n",
       "    <tr>\n",
       "      <th>195</th>\n",
       "      <td>No Defect</td>\n",
       "      <td>No Defect</td>\n",
       "      <td>Defect</td>\n",
       "      <td>Defect</td>\n",
       "    </tr>\n",
       "    <tr>\n",
       "      <th>196</th>\n",
       "      <td>Defect</td>\n",
       "      <td>Defect</td>\n",
       "      <td>No Defect</td>\n",
       "      <td>No Defect</td>\n",
       "    </tr>\n",
       "    <tr>\n",
       "      <th>197</th>\n",
       "      <td>No Defect</td>\n",
       "      <td>No Defect</td>\n",
       "      <td>No Defect</td>\n",
       "      <td>No Defect</td>\n",
       "    </tr>\n",
       "    <tr>\n",
       "      <th>198</th>\n",
       "      <td>No Defect</td>\n",
       "      <td>No Defect</td>\n",
       "      <td>Defect</td>\n",
       "      <td>Defect</td>\n",
       "    </tr>\n",
       "    <tr>\n",
       "      <th>199</th>\n",
       "      <td>No Defect</td>\n",
       "      <td>No Defect</td>\n",
       "      <td>No Defect</td>\n",
       "      <td>Defect</td>\n",
       "    </tr>\n",
       "  </tbody>\n",
       "</table>\n",
       "<p>200 rows × 4 columns</p>\n",
       "</div>"
      ],
      "text/plain": [
       "        actual     model1     model2     model3\n",
       "0    No Defect  No Defect     Defect  No Defect\n",
       "1    No Defect  No Defect     Defect     Defect\n",
       "2    No Defect  No Defect     Defect  No Defect\n",
       "3    No Defect     Defect     Defect     Defect\n",
       "4    No Defect  No Defect     Defect  No Defect\n",
       "..         ...        ...        ...        ...\n",
       "195  No Defect  No Defect     Defect     Defect\n",
       "196     Defect     Defect  No Defect  No Defect\n",
       "197  No Defect  No Defect  No Defect  No Defect\n",
       "198  No Defect  No Defect     Defect     Defect\n",
       "199  No Defect  No Defect  No Defect     Defect\n",
       "\n",
       "[200 rows x 4 columns]"
      ]
     },
     "execution_count": 98,
     "metadata": {},
     "output_type": "execute_result"
    }
   ],
   "source": [
    "rubber_duck_df"
   ]
  },
  {
   "cell_type": "code",
   "execution_count": null,
   "metadata": {},
   "outputs": [],
   "source": []
  },
  {
   "cell_type": "code",
   "execution_count": 99,
   "metadata": {},
   "outputs": [],
   "source": [
    "#rename_columns\n",
    "rubber_duck_df.columns= ['actual', 'prediction1', 'prediction2', 'prediction3']"
   ]
  },
  {
   "cell_type": "code",
   "execution_count": 100,
   "metadata": {},
   "outputs": [
    {
     "data": {
      "text/html": [
       "<div>\n",
       "<style scoped>\n",
       "    .dataframe tbody tr th:only-of-type {\n",
       "        vertical-align: middle;\n",
       "    }\n",
       "\n",
       "    .dataframe tbody tr th {\n",
       "        vertical-align: top;\n",
       "    }\n",
       "\n",
       "    .dataframe thead th {\n",
       "        text-align: right;\n",
       "    }\n",
       "</style>\n",
       "<table border=\"1\" class=\"dataframe\">\n",
       "  <thead>\n",
       "    <tr style=\"text-align: right;\">\n",
       "      <th></th>\n",
       "      <th>actual</th>\n",
       "      <th>prediction1</th>\n",
       "      <th>prediction2</th>\n",
       "      <th>prediction3</th>\n",
       "    </tr>\n",
       "  </thead>\n",
       "  <tbody>\n",
       "    <tr>\n",
       "      <th>0</th>\n",
       "      <td>No Defect</td>\n",
       "      <td>No Defect</td>\n",
       "      <td>Defect</td>\n",
       "      <td>No Defect</td>\n",
       "    </tr>\n",
       "    <tr>\n",
       "      <th>1</th>\n",
       "      <td>No Defect</td>\n",
       "      <td>No Defect</td>\n",
       "      <td>Defect</td>\n",
       "      <td>Defect</td>\n",
       "    </tr>\n",
       "    <tr>\n",
       "      <th>2</th>\n",
       "      <td>No Defect</td>\n",
       "      <td>No Defect</td>\n",
       "      <td>Defect</td>\n",
       "      <td>No Defect</td>\n",
       "    </tr>\n",
       "    <tr>\n",
       "      <th>3</th>\n",
       "      <td>No Defect</td>\n",
       "      <td>Defect</td>\n",
       "      <td>Defect</td>\n",
       "      <td>Defect</td>\n",
       "    </tr>\n",
       "    <tr>\n",
       "      <th>4</th>\n",
       "      <td>No Defect</td>\n",
       "      <td>No Defect</td>\n",
       "      <td>Defect</td>\n",
       "      <td>No Defect</td>\n",
       "    </tr>\n",
       "  </tbody>\n",
       "</table>\n",
       "</div>"
      ],
      "text/plain": [
       "      actual prediction1 prediction2 prediction3\n",
       "0  No Defect   No Defect      Defect   No Defect\n",
       "1  No Defect   No Defect      Defect      Defect\n",
       "2  No Defect   No Defect      Defect   No Defect\n",
       "3  No Defect      Defect      Defect      Defect\n",
       "4  No Defect   No Defect      Defect   No Defect"
      ]
     },
     "execution_count": 100,
     "metadata": {},
     "output_type": "execute_result"
    }
   ],
   "source": [
    "rubber_duck_df.head()"
   ]
  },
  {
   "cell_type": "code",
   "execution_count": 101,
   "metadata": {},
   "outputs": [
    {
     "data": {
      "text/html": [
       "<div>\n",
       "<style scoped>\n",
       "    .dataframe tbody tr th:only-of-type {\n",
       "        vertical-align: middle;\n",
       "    }\n",
       "\n",
       "    .dataframe tbody tr th {\n",
       "        vertical-align: top;\n",
       "    }\n",
       "\n",
       "    .dataframe thead th {\n",
       "        text-align: right;\n",
       "    }\n",
       "</style>\n",
       "<table border=\"1\" class=\"dataframe\">\n",
       "  <thead>\n",
       "    <tr style=\"text-align: right;\">\n",
       "      <th>prediction1</th>\n",
       "      <th>Defect</th>\n",
       "      <th>No Defect</th>\n",
       "    </tr>\n",
       "    <tr>\n",
       "      <th>actual</th>\n",
       "      <th></th>\n",
       "      <th></th>\n",
       "    </tr>\n",
       "  </thead>\n",
       "  <tbody>\n",
       "    <tr>\n",
       "      <th>Defect</th>\n",
       "      <td>8</td>\n",
       "      <td>8</td>\n",
       "    </tr>\n",
       "    <tr>\n",
       "      <th>No Defect</th>\n",
       "      <td>2</td>\n",
       "      <td>182</td>\n",
       "    </tr>\n",
       "  </tbody>\n",
       "</table>\n",
       "</div>"
      ],
      "text/plain": [
       "prediction1  Defect  No Defect\n",
       "actual                        \n",
       "Defect            8          8\n",
       "No Defect         2        182"
      ]
     },
     "execution_count": 101,
     "metadata": {},
     "output_type": "execute_result"
    }
   ],
   "source": [
    "# Crosstab\n",
    "pd.crosstab(rubber_duck_df.actual, rubber_duck_df.prediction1)"
   ]
  },
  {
   "cell_type": "code",
   "execution_count": 102,
   "metadata": {},
   "outputs": [
    {
     "data": {
      "text/html": [
       "<div>\n",
       "<style scoped>\n",
       "    .dataframe tbody tr th:only-of-type {\n",
       "        vertical-align: middle;\n",
       "    }\n",
       "\n",
       "    .dataframe tbody tr th {\n",
       "        vertical-align: top;\n",
       "    }\n",
       "\n",
       "    .dataframe thead th {\n",
       "        text-align: right;\n",
       "    }\n",
       "</style>\n",
       "<table border=\"1\" class=\"dataframe\">\n",
       "  <thead>\n",
       "    <tr style=\"text-align: right;\">\n",
       "      <th>prediction2</th>\n",
       "      <th>Defect</th>\n",
       "      <th>No Defect</th>\n",
       "    </tr>\n",
       "    <tr>\n",
       "      <th>actual</th>\n",
       "      <th></th>\n",
       "      <th></th>\n",
       "    </tr>\n",
       "  </thead>\n",
       "  <tbody>\n",
       "    <tr>\n",
       "      <th>Defect</th>\n",
       "      <td>9</td>\n",
       "      <td>7</td>\n",
       "    </tr>\n",
       "    <tr>\n",
       "      <th>No Defect</th>\n",
       "      <td>81</td>\n",
       "      <td>103</td>\n",
       "    </tr>\n",
       "  </tbody>\n",
       "</table>\n",
       "</div>"
      ],
      "text/plain": [
       "prediction2  Defect  No Defect\n",
       "actual                        \n",
       "Defect            9          7\n",
       "No Defect        81        103"
      ]
     },
     "execution_count": 102,
     "metadata": {},
     "output_type": "execute_result"
    }
   ],
   "source": [
    "pd.crosstab(rubber_duck_df.actual, rubber_duck_df.prediction2)"
   ]
  },
  {
   "cell_type": "code",
   "execution_count": 103,
   "metadata": {},
   "outputs": [
    {
     "data": {
      "text/html": [
       "<div>\n",
       "<style scoped>\n",
       "    .dataframe tbody tr th:only-of-type {\n",
       "        vertical-align: middle;\n",
       "    }\n",
       "\n",
       "    .dataframe tbody tr th {\n",
       "        vertical-align: top;\n",
       "    }\n",
       "\n",
       "    .dataframe thead th {\n",
       "        text-align: right;\n",
       "    }\n",
       "</style>\n",
       "<table border=\"1\" class=\"dataframe\">\n",
       "  <thead>\n",
       "    <tr style=\"text-align: right;\">\n",
       "      <th>prediction3</th>\n",
       "      <th>Defect</th>\n",
       "      <th>No Defect</th>\n",
       "    </tr>\n",
       "    <tr>\n",
       "      <th>actual</th>\n",
       "      <th></th>\n",
       "      <th></th>\n",
       "    </tr>\n",
       "  </thead>\n",
       "  <tbody>\n",
       "    <tr>\n",
       "      <th>Defect</th>\n",
       "      <td>13</td>\n",
       "      <td>3</td>\n",
       "    </tr>\n",
       "    <tr>\n",
       "      <th>No Defect</th>\n",
       "      <td>86</td>\n",
       "      <td>98</td>\n",
       "    </tr>\n",
       "  </tbody>\n",
       "</table>\n",
       "</div>"
      ],
      "text/plain": [
       "prediction3  Defect  No Defect\n",
       "actual                        \n",
       "Defect           13          3\n",
       "No Defect        86         98"
      ]
     },
     "execution_count": 103,
     "metadata": {},
     "output_type": "execute_result"
    }
   ],
   "source": [
    "pd.crosstab(rubber_duck_df.actual, rubber_duck_df.prediction3)"
   ]
  },
  {
   "cell_type": "code",
   "execution_count": 104,
   "metadata": {},
   "outputs": [],
   "source": [
    "# pd.crosstab([rubber_duck_df.actual, rubber_duck_df.prediction1], [rubber_duck_df.actual, rubber_duck_df.prediction2], [rubber_duck_df.actual, rubber_duck_df.prediction3])"
   ]
  },
  {
   "cell_type": "code",
   "execution_count": 105,
   "metadata": {},
   "outputs": [
    {
     "data": {
      "text/plain": [
       "array([[  8,   8],\n",
       "       [  2, 182]])"
      ]
     },
     "execution_count": 105,
     "metadata": {},
     "output_type": "execute_result"
    }
   ],
   "source": [
    "confusion_matrix(rubber_duck_df.actual, rubber_duck_df.prediction1,\n",
    "                 labels = ('Defect', 'No Defect'))"
   ]
  },
  {
   "cell_type": "code",
   "execution_count": 106,
   "metadata": {},
   "outputs": [
    {
     "data": {
      "text/plain": [
       "array([[  9,   7],\n",
       "       [ 81, 103]])"
      ]
     },
     "execution_count": 106,
     "metadata": {},
     "output_type": "execute_result"
    }
   ],
   "source": [
    "confusion_matrix(rubber_duck_df.actual, rubber_duck_df.prediction2,\n",
    "                 labels = ('Defect', 'No Defect'))"
   ]
  },
  {
   "cell_type": "code",
   "execution_count": 107,
   "metadata": {},
   "outputs": [
    {
     "data": {
      "text/plain": [
       "array([[13,  3],\n",
       "       [86, 98]])"
      ]
     },
     "execution_count": 107,
     "metadata": {},
     "output_type": "execute_result"
    }
   ],
   "source": [
    "confusion_matrix(rubber_duck_df.actual, rubber_duck_df.prediction3,\n",
    "                 labels = ('Defect', 'No Defect'))"
   ]
  },
  {
   "cell_type": "code",
   "execution_count": 108,
   "metadata": {},
   "outputs": [],
   "source": [
    "#Get rate of recall, because want to know all defects"
   ]
  },
  {
   "cell_type": "code",
   "execution_count": 109,
   "metadata": {},
   "outputs": [
    {
     "data": {
      "text/plain": [
       "0.5"
      ]
     },
     "execution_count": 109,
     "metadata": {},
     "output_type": "execute_result"
    }
   ],
   "source": [
    "#recall for prediction 1\n",
    "# actual cases that were positive, of this subset how many times did we get it right? The answer here is 50 %\n",
    "subset = rubber_duck_df[rubber_duck_df.actual == 'Defect']\n",
    "(subset.prediction1 == subset.actual).mean()"
   ]
  },
  {
   "cell_type": "code",
   "execution_count": 110,
   "metadata": {},
   "outputs": [
    {
     "data": {
      "text/plain": [
       "0.5625"
      ]
     },
     "execution_count": 110,
     "metadata": {},
     "output_type": "execute_result"
    }
   ],
   "source": [
    "#recall for prediction 2\n",
    "# actual cases that were positive, of this subset how many times did we get it right? The answer here is 56 %\n",
    "subset = rubber_duck_df[rubber_duck_df.actual == 'Defect']\n",
    "(subset.prediction2 == subset.actual).mean()"
   ]
  },
  {
   "cell_type": "code",
   "execution_count": 111,
   "metadata": {},
   "outputs": [
    {
     "data": {
      "text/plain": [
       "0.8125"
      ]
     },
     "execution_count": 111,
     "metadata": {},
     "output_type": "execute_result"
    }
   ],
   "source": [
    "#recall for prediction 3\n",
    "# actual cases that were positive, of this subset how many times did we get it right? The answer here is 81 %\n",
    "subset = rubber_duck_df[rubber_duck_df.actual == 'Defect']\n",
    "(subset.prediction3 == subset.actual).mean()"
   ]
  },
  {
   "cell_type": "code",
   "execution_count": 112,
   "metadata": {},
   "outputs": [],
   "source": [
    "# - 3b. Use the predictions dataset and pandas to help answer the following questions:\n",
    "#        - Recently several stories in the local news have come out highlighting customers who received a rubber duck with a defect, \n",
    "#  and portraying C3 in a bad light. The PR team has decided to launch a program that gives customers with a defective duck a vacation to Hawaii. \n",
    "# They need you to predict which ducks will have defects, but tell you the really \n",
    "# don't want to accidentally give out a vacation package when the duck really doesn't have a defect. \n",
    "# Which evaluation metric would be appropriate here? Which model would be the best fit for this use case?\n",
    "#       - Answer: \n",
    "#         - Positive: Customer received a defected rubber-duck\n",
    "#         - Negative: Customer did not receive a defected rubber-duck\n",
    "#         - The metric that should be used is precision b/c the positive prediction can be expensive.\n",
    "#         - Prediction1/model1 has the highest precision here for 80% and this is what we would use"
   ]
  },
  {
   "cell_type": "code",
   "execution_count": 113,
   "metadata": {},
   "outputs": [
    {
     "data": {
      "text/plain": [
       "0.8"
      ]
     },
     "execution_count": 113,
     "metadata": {},
     "output_type": "execute_result"
    }
   ],
   "source": [
    "#Precision for prediction 1\n",
    "# Of the times we predicted positive case of this subset of data how did we do/how many times did we get it right? We got it right 80 % of the time\n",
    "subset = rubber_duck_df[rubber_duck_df.prediction1 == 'Defect']\n",
    "(subset.prediction1 == subset.actual).mean()"
   ]
  },
  {
   "cell_type": "code",
   "execution_count": 114,
   "metadata": {},
   "outputs": [
    {
     "data": {
      "text/plain": [
       "0.1"
      ]
     },
     "execution_count": 114,
     "metadata": {},
     "output_type": "execute_result"
    }
   ],
   "source": [
    "#Precision for prediction 2\n",
    "# Of the times we predicted positive case of this subset of data how did we do/how many times did we get it right? We got it right 10 % of the time\n",
    "subset = rubber_duck_df[rubber_duck_df.prediction2 == 'Defect']\n",
    "(subset.prediction2 == subset.actual).mean()"
   ]
  },
  {
   "cell_type": "code",
   "execution_count": 115,
   "metadata": {},
   "outputs": [
    {
     "data": {
      "text/plain": [
       "0.6060606060606061"
      ]
     },
     "execution_count": 115,
     "metadata": {},
     "output_type": "execute_result"
    }
   ],
   "source": [
    "#Precision for prediction 3\n",
    "# Of the times we predicted positive case of this subset of data how did we do/how many times did we get it right? We got it right 60 % of the time\n",
    "subset = rubber_duck_df[rubber_duck_df.prediction3 == 'Defect']\n",
    "(subset.prediction2 == subset.actual).mean()"
   ]
  },
  {
   "cell_type": "code",
   "execution_count": null,
   "metadata": {},
   "outputs": [],
   "source": [
    "# 4. You are working as a data scientist for Gives You Paws ™, a subscription based service that shows \n",
    "# you cute pictures of dogs or cats (or both for an additional fee).\n",
    "\n",
    "# # At Gives You Paws, anyone can upload pictures of their cats or dogs. The photos are then put through a two step process. \n",
    "# First an automated algorithm tags pictures as either a cat or a dog (Phase I). \n",
    "# Next, the photos that have been initially identified are put through another round of review, possibly with some human oversight, \n",
    "# before being presented to the users (Phase II).\n",
    "\n",
    "# Several models have already been developed with the data, and you can find their results here.\n",
    "\n",
    "# Given this dataset, use pandas to create a baseline model (i.e. a model that just predicts the most common class) and answer the following questions:\n",
    "\n",
    "# - a. In terms of accuracy, how do the various models compare to the baseline model? Are any of the models better than the baseline?\n",
    "# - b. Suppose you are working on a team that solely deals with dog pictures. Which of these models would you recomend for Phase I? For Phase II?\n",
    "# - c. Suppose you are working on a team that solely deals with cat pictures. Which of these models would you recomend for Phase I? For Phase II?\n"
   ]
  },
  {
   "cell_type": "code",
   "execution_count": 48,
   "metadata": {},
   "outputs": [],
   "source": [
    "gives_you_paws_df= pd.read_csv('gives_you_paws.csv')"
   ]
  },
  {
   "cell_type": "code",
   "execution_count": 49,
   "metadata": {},
   "outputs": [
    {
     "data": {
      "text/html": [
       "<div>\n",
       "<style scoped>\n",
       "    .dataframe tbody tr th:only-of-type {\n",
       "        vertical-align: middle;\n",
       "    }\n",
       "\n",
       "    .dataframe tbody tr th {\n",
       "        vertical-align: top;\n",
       "    }\n",
       "\n",
       "    .dataframe thead th {\n",
       "        text-align: right;\n",
       "    }\n",
       "</style>\n",
       "<table border=\"1\" class=\"dataframe\">\n",
       "  <thead>\n",
       "    <tr style=\"text-align: right;\">\n",
       "      <th></th>\n",
       "      <th>actual</th>\n",
       "      <th>model1</th>\n",
       "      <th>model2</th>\n",
       "      <th>model3</th>\n",
       "      <th>model4</th>\n",
       "    </tr>\n",
       "  </thead>\n",
       "  <tbody>\n",
       "    <tr>\n",
       "      <th>0</th>\n",
       "      <td>cat</td>\n",
       "      <td>cat</td>\n",
       "      <td>dog</td>\n",
       "      <td>cat</td>\n",
       "      <td>dog</td>\n",
       "    </tr>\n",
       "    <tr>\n",
       "      <th>1</th>\n",
       "      <td>dog</td>\n",
       "      <td>dog</td>\n",
       "      <td>cat</td>\n",
       "      <td>cat</td>\n",
       "      <td>dog</td>\n",
       "    </tr>\n",
       "    <tr>\n",
       "      <th>2</th>\n",
       "      <td>dog</td>\n",
       "      <td>cat</td>\n",
       "      <td>cat</td>\n",
       "      <td>cat</td>\n",
       "      <td>dog</td>\n",
       "    </tr>\n",
       "    <tr>\n",
       "      <th>3</th>\n",
       "      <td>dog</td>\n",
       "      <td>dog</td>\n",
       "      <td>dog</td>\n",
       "      <td>cat</td>\n",
       "      <td>dog</td>\n",
       "    </tr>\n",
       "    <tr>\n",
       "      <th>4</th>\n",
       "      <td>cat</td>\n",
       "      <td>cat</td>\n",
       "      <td>cat</td>\n",
       "      <td>dog</td>\n",
       "      <td>dog</td>\n",
       "    </tr>\n",
       "  </tbody>\n",
       "</table>\n",
       "</div>"
      ],
      "text/plain": [
       "  actual model1 model2 model3 model4\n",
       "0    cat    cat    dog    cat    dog\n",
       "1    dog    dog    cat    cat    dog\n",
       "2    dog    cat    cat    cat    dog\n",
       "3    dog    dog    dog    cat    dog\n",
       "4    cat    cat    cat    dog    dog"
      ]
     },
     "execution_count": 49,
     "metadata": {},
     "output_type": "execute_result"
    }
   ],
   "source": [
    "gives_you_paws_df.head()"
   ]
  },
  {
   "cell_type": "code",
   "execution_count": 50,
   "metadata": {},
   "outputs": [],
   "source": [
    "# - 4a. In terms of accuracy, how do the various models compare to the baseline model? Are any of the models better than the baseline?"
   ]
  },
  {
   "cell_type": "code",
   "execution_count": 51,
   "metadata": {},
   "outputs": [
    {
     "data": {
      "text/plain": [
       "dog    3254\n",
       "cat    1746\n",
       "Name: actual, dtype: int64"
      ]
     },
     "execution_count": 51,
     "metadata": {},
     "output_type": "execute_result"
    }
   ],
   "source": [
    "gives_you_paws_df.actual.value_counts() # to see most common value"
   ]
  },
  {
   "cell_type": "code",
   "execution_count": 52,
   "metadata": {},
   "outputs": [],
   "source": [
    "# In baseline, use most common value (typically) or something put in place by industry/company, here we use most common value per question\n",
    "gives_you_paws_df['baseline']= 'dog' "
   ]
  },
  {
   "cell_type": "code",
   "execution_count": 53,
   "metadata": {},
   "outputs": [
    {
     "data": {
      "text/html": [
       "<div>\n",
       "<style scoped>\n",
       "    .dataframe tbody tr th:only-of-type {\n",
       "        vertical-align: middle;\n",
       "    }\n",
       "\n",
       "    .dataframe tbody tr th {\n",
       "        vertical-align: top;\n",
       "    }\n",
       "\n",
       "    .dataframe thead th {\n",
       "        text-align: right;\n",
       "    }\n",
       "</style>\n",
       "<table border=\"1\" class=\"dataframe\">\n",
       "  <thead>\n",
       "    <tr style=\"text-align: right;\">\n",
       "      <th></th>\n",
       "      <th>actual</th>\n",
       "      <th>model1</th>\n",
       "      <th>model2</th>\n",
       "      <th>model3</th>\n",
       "      <th>model4</th>\n",
       "      <th>baseline</th>\n",
       "    </tr>\n",
       "  </thead>\n",
       "  <tbody>\n",
       "    <tr>\n",
       "      <th>0</th>\n",
       "      <td>cat</td>\n",
       "      <td>cat</td>\n",
       "      <td>dog</td>\n",
       "      <td>cat</td>\n",
       "      <td>dog</td>\n",
       "      <td>dog</td>\n",
       "    </tr>\n",
       "    <tr>\n",
       "      <th>1</th>\n",
       "      <td>dog</td>\n",
       "      <td>dog</td>\n",
       "      <td>cat</td>\n",
       "      <td>cat</td>\n",
       "      <td>dog</td>\n",
       "      <td>dog</td>\n",
       "    </tr>\n",
       "    <tr>\n",
       "      <th>2</th>\n",
       "      <td>dog</td>\n",
       "      <td>cat</td>\n",
       "      <td>cat</td>\n",
       "      <td>cat</td>\n",
       "      <td>dog</td>\n",
       "      <td>dog</td>\n",
       "    </tr>\n",
       "    <tr>\n",
       "      <th>3</th>\n",
       "      <td>dog</td>\n",
       "      <td>dog</td>\n",
       "      <td>dog</td>\n",
       "      <td>cat</td>\n",
       "      <td>dog</td>\n",
       "      <td>dog</td>\n",
       "    </tr>\n",
       "    <tr>\n",
       "      <th>4</th>\n",
       "      <td>cat</td>\n",
       "      <td>cat</td>\n",
       "      <td>cat</td>\n",
       "      <td>dog</td>\n",
       "      <td>dog</td>\n",
       "      <td>dog</td>\n",
       "    </tr>\n",
       "  </tbody>\n",
       "</table>\n",
       "</div>"
      ],
      "text/plain": [
       "  actual model1 model2 model3 model4 baseline\n",
       "0    cat    cat    dog    cat    dog      dog\n",
       "1    dog    dog    cat    cat    dog      dog\n",
       "2    dog    cat    cat    cat    dog      dog\n",
       "3    dog    dog    dog    cat    dog      dog\n",
       "4    cat    cat    cat    dog    dog      dog"
      ]
     },
     "execution_count": 53,
     "metadata": {},
     "output_type": "execute_result"
    }
   ],
   "source": [
    "#Checking if new column was added\n",
    "gives_you_paws_df.head()"
   ]
  },
  {
   "cell_type": "code",
   "execution_count": 62,
   "metadata": {},
   "outputs": [
    {
     "name": "stdout",
     "output_type": "stream",
     "text": [
      "\n",
      "positive: dog\n",
      "\n",
      "         | accuracy \n",
      "         | --------        \n",
      "  model1 |    80.7%\n",
      "  model2 |    63.0%\n",
      "  model3 |    51.0%\n",
      "  model4 |    74.3%\n",
      "baseline |    65.1% \n",
      "\n"
     ]
    }
   ],
   "source": [
    "#Answer: Model 1 and model 4 has higher accuracy than baseline\n",
    "\n",
    "positive = 'dog' # positive case is defined here (if yes dog)\n",
    "# accuracy -- overall hit rate\n",
    "model_accuracy1 = (gives_you_paws_df.model1 == gives_you_paws_df.actual).mean()\n",
    "model_accuracy2 = (gives_you_paws_df.model2 == gives_you_paws_df.actual).mean()\n",
    "model_accuracy3 = (gives_you_paws_df.model3 == gives_you_paws_df.actual).mean()\n",
    "model_accuracy4 = (gives_you_paws_df.model4 == gives_you_paws_df.actual).mean()\n",
    "baseline_accuracy = (gives_you_paws_df.baseline == gives_you_paws_df.actual).mean()\n",
    "\n",
    "\n",
    "\n",
    "print(f'''\n",
    "positive: {positive}\n",
    "\n",
    "         | accuracy \n",
    "         | --------        \n",
    "  model1 | {model_accuracy1:8.1%}\n",
    "  model2 | {model_accuracy2:8.1%}\n",
    "  model3 | {model_accuracy3:8.1%}\n",
    "  model4 | {model_accuracy4:8.1%}\n",
    "baseline | {baseline_accuracy:8.1%} \n",
    "''')"
   ]
  },
  {
   "cell_type": "code",
   "execution_count": null,
   "metadata": {},
   "outputs": [],
   "source": [
    "# - 4b1. Suppose you are working on a team that solely deals with dog pictures. Which of these models would you recomend for Phase I?\n",
    "# Answer: Use accuracy for Phase I and it would be recommended to use model 1 for this.\n"
   ]
  },
  {
   "cell_type": "code",
   "execution_count": 67,
   "metadata": {},
   "outputs": [
    {
     "name": "stdout",
     "output_type": "stream",
     "text": [
      "\n",
      "positive: dog\n",
      "\n",
      "         | precision\n",
      "         | ---------         \n",
      "  model1 |     89.0%\n",
      "  model2 |     89.3%\n",
      "  model3 |     66.0%\n",
      "  model4 |     73.1%\n",
      "baseline |     65.1%\n",
      "\n"
     ]
    }
   ],
   "source": [
    "# - 4b2. Suppose you are working on a team that solely deals with dog pictures. Which of these models would you recomend for Phase II?\n",
    "#Answer: We would use precision for phase II and the model recommended to be used is model 1 or model 2 for this.\n",
    "\n",
    "positive = 'dog' # positive case is defined here (if yes coffee)\n",
    "\n",
    "# precision -- how good are our positive predictions?\n",
    "# precision -- model performance | predicted positive\n",
    "subset1 = gives_you_paws_df[gives_you_paws_df.model1 == positive]\n",
    "subset2 = gives_you_paws_df[gives_you_paws_df.model2 == positive]\n",
    "subset3 = gives_you_paws_df[gives_you_paws_df.model3 == positive]\n",
    "subset4 = gives_you_paws_df[gives_you_paws_df.model4 == positive]\n",
    "model_precision1 = (subset1.model1 == subset1.actual).mean()\n",
    "model_precision2 = (subset2.model2 == subset2.actual).mean()\n",
    "model_precision3 = (subset3.model3 == subset3.actual).mean()\n",
    "model_precision4 = (subset4.model4 == subset4.actual).mean()\n",
    "subset = gives_you_paws_df[gives_you_paws_df.baseline == positive]\n",
    "baseline_precision = (subset.baseline == subset.actual).mean()\n",
    "\n",
    "\n",
    "\n",
    "\n",
    "print(f'''\n",
    "positive: {positive}\n",
    "\n",
    "         | precision\n",
    "         | ---------         \n",
    "  model1 | {model_precision1:9.1%}\n",
    "  model2 | {model_precision2:9.1%}\n",
    "  model3 | {model_precision3:9.1%}\n",
    "  model4 | {model_precision4:9.1%}\n",
    "baseline | {baseline_precision:9.1%}\n",
    "''')"
   ]
  },
  {
   "cell_type": "markdown",
   "metadata": {},
   "source": [
    "Note: baseline is the most common value or is set by industry"
   ]
  },
  {
   "cell_type": "code",
   "execution_count": 74,
   "metadata": {},
   "outputs": [
    {
     "name": "stdout",
     "output_type": "stream",
     "text": [
      "\n",
      "positive: cat\n",
      "\n",
      "         | accuracy \n",
      "         | --------        \n",
      "  model1 |    80.7%\n",
      "  model2 |    63.0%\n",
      "  model3 |    51.0%\n",
      "  model4 |    74.3% \n",
      "\n"
     ]
    }
   ],
   "source": [
    "# - 4c1. Suppose you are working on a team that solely deals with cat pictures. Which of these models would you recommend for Phase I?\n",
    "#Answer: Model1 and possibly Model 4 are recommended for Phase I \n",
    "\n",
    "positive = 'cat' # positive case is defined here (if yes dog)\n",
    "# accuracy -- overall hit rate\n",
    "model_accuracy11 = (gives_you_paws_df.model1 == gives_you_paws_df.actual).mean()\n",
    "model_accuracy22 = (gives_you_paws_df.model2 == gives_you_paws_df.actual).mean()\n",
    "model_accuracy33 = (gives_you_paws_df.model3 == gives_you_paws_df.actual).mean()\n",
    "model_accuracy44 = (gives_you_paws_df.model4 == gives_you_paws_df.actual).mean()\n",
    "\n",
    "\n",
    "\n",
    "\n",
    "print(f'''\n",
    "positive: {positive}\n",
    "\n",
    "         | accuracy \n",
    "         | --------        \n",
    "  model1 | {model_accuracy11:8.1%}\n",
    "  model2 | {model_accuracy22:8.1%}\n",
    "  model3 | {model_accuracy33:8.1%}\n",
    "  model4 | {model_accuracy44:8.1%} \n",
    "''')"
   ]
  },
  {
   "cell_type": "code",
   "execution_count": 78,
   "metadata": {},
   "outputs": [
    {
     "name": "stdout",
     "output_type": "stream",
     "text": [
      "\n",
      "positive: cat\n",
      "\n",
      "         | precision\n",
      "         | ---------         \n",
      "  model1 |     69.0%\n",
      "  model2 |     48.4%\n",
      "  model3 |     35.8%\n",
      "  model4 |     80.7%\n",
      "\n"
     ]
    }
   ],
   "source": [
    "# - 4c2. Suppose you are working on a team that solely deals with cat pictures. Which of these models would you recomend for Phase II? \n",
    "#Answer: Model 4 is recommended for Phase I \n",
    "\n",
    "positive = 'cat' # positive case is defined here (if yes coffee)\n",
    "\n",
    "# precision -- how good are our positive predictions?\n",
    "# precision -- model performance | predicted positive\n",
    "subset11 = gives_you_paws_df[gives_you_paws_df.model1 == positive]\n",
    "subset22 = gives_you_paws_df[gives_you_paws_df.model2 == positive]\n",
    "subset33 = gives_you_paws_df[gives_you_paws_df.model3 == positive]\n",
    "subset44 = gives_you_paws_df[gives_you_paws_df.model4 == positive]\n",
    "model_precision11 = (subset11.model1 == subset1.actual).mean()\n",
    "model_precision22 = (subset22.model2 == subset2.actual).mean()\n",
    "model_precision33 = (subset33.model3 == subset3.actual).mean()\n",
    "model_precision44 = (subset44.model4 == subset4.actual).mean()\n",
    "\n",
    "\n",
    "\n",
    "\n",
    "\n",
    "print(f'''\n",
    "positive: {positive}\n",
    "\n",
    "         | precision\n",
    "         | ---------         \n",
    "  model1 | {model_precision11:9.1%}\n",
    "  model2 | {model_precision22:9.1%}\n",
    "  model3 | {model_precision33:9.1%}\n",
    "  model4 | {model_precision44:9.1%}\n",
    "''')"
   ]
  },
  {
   "cell_type": "code",
   "execution_count": null,
   "metadata": {},
   "outputs": [],
   "source": [
    "# 5. Follow the links below to read the documentation about each function, then apply those functions to the data from the previous problem.\n",
    "\n",
    "# sklearn.metrics.accuracy_score\n",
    "# sklearn.metrics.precision_score\n",
    "# sklearn.metrics.recall_score\n",
    "# sklearn.metrics.classification_report"
   ]
  },
  {
   "cell_type": "code",
   "execution_count": 83,
   "metadata": {},
   "outputs": [
    {
     "name": "stdout",
     "output_type": "stream",
     "text": [
      "0.6508\n",
      "0.8074\n",
      "0.6304\n",
      "0.5096\n",
      "0.7426\n"
     ]
    }
   ],
   "source": [
    "# sklearn.metrics.accuracy_score\n",
    "print(accuracy_score(gives_you_paws_df.actual, gives_you_paws_df.baseline))\n",
    "print(accuracy_score(gives_you_paws_df.actual, gives_you_paws_df.model1))\n",
    "print(accuracy_score(gives_you_paws_df.actual, gives_you_paws_df.model2))\n",
    "print(accuracy_score(gives_you_paws_df.actual, gives_you_paws_df.model3))\n",
    "print(accuracy_score(gives_you_paws_df.actual, gives_you_paws_df.model4))\n"
   ]
  },
  {
   "cell_type": "code",
   "execution_count": 80,
   "metadata": {},
   "outputs": [
    {
     "name": "stdout",
     "output_type": "stream",
     "text": [
      "Accuracy score for baseline is 65.08%\n",
      "Accuracy score for model1 is 80.74%\n",
      "Accuracy score for model2 is 63.04%\n",
      "Accuracy score for model3 is 50.96%\n",
      "Accuracy score for model4 is 74.26%\n"
     ]
    }
   ],
   "source": [
    "model_list = ['baseline', 'model1', 'model2', 'model3', 'model4']\n",
    "\n",
    "for model in model_list:\n",
    "    accuracy = accuracy_score(gives_you_paws_df.actual, gives_you_paws_df[model])\n",
    "    print(f'Accuracy score for {model} is {accuracy:.2%}')"
   ]
  },
  {
   "cell_type": "code",
   "execution_count": 85,
   "metadata": {},
   "outputs": [
    {
     "name": "stdout",
     "output_type": "stream",
     "text": [
      "Precision score for baseline is 65.08%\n",
      "Precision score for model1 is 89.00%\n",
      "Precision score for model2 is 89.32%\n",
      "Precision score for model3 is 65.99%\n",
      "Precision score for model4 is 73.12%\n"
     ]
    }
   ],
   "source": [
    "# sklearn.metrics.precision_score\n",
    "#For Dogs\n",
    "for model in model_list:\n",
    "    precision = precision_score(gives_you_paws_df.actual, gives_you_paws_df[model], pos_label='dog')\n",
    "    print(f'Precision score for {model} is {precision:.2%}')"
   ]
  },
  {
   "cell_type": "code",
   "execution_count": 88,
   "metadata": {},
   "outputs": [
    {
     "name": "stdout",
     "output_type": "stream",
     "text": [
      "Precision score of cats for baseline is 0.00%\n",
      "Precision score of cats for model1 is 68.98%\n",
      "Precision score of cats for model2 is 48.41%\n",
      "Precision score of cats for model3 is 35.83%\n",
      "Precision score of cats for model4 is 80.72%\n"
     ]
    }
   ],
   "source": [
    "#For cats\n",
    "for model in model_list:\n",
    "    precision = precision_score(gives_you_paws_df.actual, gives_you_paws_df[model], pos_label='cat')\n",
    "    print(f'Precision score of cats for {model} is {precision:.2%}')"
   ]
  },
  {
   "cell_type": "code",
   "execution_count": 89,
   "metadata": {},
   "outputs": [
    {
     "name": "stdout",
     "output_type": "stream",
     "text": [
      "Recall score for baseline is 100.00%\n",
      "Recall score for model1 is 80.33%\n",
      "Recall score for model2 is 49.08%\n",
      "Recall score for model3 is 50.86%\n",
      "Recall score for model4 is 95.57%\n"
     ]
    }
   ],
   "source": [
    "# sklearn.metrics.recall_score\n",
    "for model in model_list:\n",
    "    recall = recall_score(gives_you_paws_df.actual, gives_you_paws_df[model], pos_label='dog')\n",
    "    print(f'Recall score for {model} is {recall:.2%}')"
   ]
  },
  {
   "cell_type": "code",
   "execution_count": 92,
   "metadata": {},
   "outputs": [
    {
     "name": "stdout",
     "output_type": "stream",
     "text": [
      "Classification report for baseline is:\n",
      "              precision    recall  f1-score   support\n",
      "\n",
      "         dog       0.00      0.00      0.00      1746\n",
      "         cat       0.65      1.00      0.79      3254\n",
      "\n",
      "    accuracy                           0.65      5000\n",
      "   macro avg       0.33      0.50      0.39      5000\n",
      "weighted avg       0.42      0.65      0.51      5000\n",
      "\n",
      "------------------------------------------------------------\n",
      "Classification report for model1 is:\n",
      "              precision    recall  f1-score   support\n",
      "\n",
      "         dog       0.69      0.82      0.75      1746\n",
      "         cat       0.89      0.80      0.84      3254\n",
      "\n",
      "    accuracy                           0.81      5000\n",
      "   macro avg       0.79      0.81      0.80      5000\n",
      "weighted avg       0.82      0.81      0.81      5000\n",
      "\n",
      "------------------------------------------------------------\n",
      "Classification report for model2 is:\n",
      "              precision    recall  f1-score   support\n",
      "\n",
      "         dog       0.48      0.89      0.63      1746\n",
      "         cat       0.89      0.49      0.63      3254\n",
      "\n",
      "    accuracy                           0.63      5000\n",
      "   macro avg       0.69      0.69      0.63      5000\n",
      "weighted avg       0.75      0.63      0.63      5000\n",
      "\n",
      "------------------------------------------------------------\n",
      "Classification report for model3 is:\n",
      "              precision    recall  f1-score   support\n",
      "\n",
      "         dog       0.36      0.51      0.42      1746\n",
      "         cat       0.66      0.51      0.57      3254\n",
      "\n",
      "    accuracy                           0.51      5000\n",
      "   macro avg       0.51      0.51      0.50      5000\n",
      "weighted avg       0.55      0.51      0.52      5000\n",
      "\n",
      "------------------------------------------------------------\n",
      "Classification report for model4 is:\n",
      "              precision    recall  f1-score   support\n",
      "\n",
      "         dog       0.81      0.35      0.48      1746\n",
      "         cat       0.73      0.96      0.83      3254\n",
      "\n",
      "    accuracy                           0.74      5000\n",
      "   macro avg       0.77      0.65      0.66      5000\n",
      "weighted avg       0.76      0.74      0.71      5000\n",
      "\n",
      "------------------------------------------------------------\n"
     ]
    }
   ],
   "source": [
    "# sklearn.metrics.classification_report\n",
    "\n",
    "for model in model_list:\n",
    "    classification = classification_report(gives_you_paws_df.actual, gives_you_paws_df[model], target_names=['dog', 'cat'])\n",
    "    print(f'Classification report for {model} is:')\n",
    "    print(classification)\n",
    "    print('------------------------------------------------------------')"
   ]
  },
  {
   "cell_type": "code",
   "execution_count": null,
   "metadata": {},
   "outputs": [],
   "source": []
  },
  {
   "cell_type": "code",
   "execution_count": null,
   "metadata": {},
   "outputs": [],
   "source": []
  },
  {
   "cell_type": "code",
   "execution_count": null,
   "metadata": {},
   "outputs": [],
   "source": []
  }
 ],
 "metadata": {
  "kernelspec": {
   "display_name": "Python 3",
   "language": "python",
   "name": "python3"
  },
  "language_info": {
   "codemirror_mode": {
    "name": "ipython",
    "version": 3
   },
   "file_extension": ".py",
   "mimetype": "text/x-python",
   "name": "python",
   "nbconvert_exporter": "python",
   "pygments_lexer": "ipython3",
   "version": "3.8.5"
  }
 },
 "nbformat": 4,
 "nbformat_minor": 4
}
